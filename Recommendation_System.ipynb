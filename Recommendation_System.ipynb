{
  "nbformat": 4,
  "nbformat_minor": 0,
  "metadata": {
    "colab": {
      "name": "Recommendation System .ipynb",
      "provenance": [],
      "collapsed_sections": []
    },
    "kernelspec": {
      "name": "python3",
      "display_name": "Python 3"
    },
    "language_info": {
      "name": "python"
    }
  },
  "cells": [
    {
      "cell_type": "markdown",
      "metadata": {
        "id": "8vYy9QWN3k29"
      },
      "source": [
        "Contents:\n",
        "\n",
        "Information abaut Data\n",
        "\n",
        "Import Libs and Read Data\n",
        "\n",
        "Data visualization\n",
        "\n",
        "Machine learning \n",
        "\n",
        "Deployment(Use Flask)\n",
        "\n",
        "\n"
      ]
    },
    {
      "cell_type": "markdown",
      "metadata": {
        "id": "j5TGuxqj4P2L"
      },
      "source": [
        "Information about Data:\n",
        "\n",
        "Dataset Name : Groceries dataset\n",
        "\n",
        "Dataset Columns :\n",
        "\n",
        "Member_number\n",
        "\n",
        "Date\n",
        "\n",
        "itemDescription"
      ]
    },
    {
      "cell_type": "code",
      "metadata": {
        "id": "Pf9M8PdbR08i"
      },
      "source": [
        "import pandas as pd\n",
        "import numpy as np\n",
        "import matplotlib.pyplot as plt\n",
        "import seaborn as sns\n",
        "from apyori import apriori\n",
        "%matplotlib inline"
      ],
      "execution_count": null,
      "outputs": []
    },
    {
      "cell_type": "code",
      "metadata": {
        "colab": {
          "base_uri": "https://localhost:8080/"
        },
        "id": "5f33jFvSe07z",
        "outputId": "c4f5384a-7bff-49a4-e964-c7f8cd728df8"
      },
      "source": [
        "%pip install apyori\n"
      ],
      "execution_count": null,
      "outputs": [
        {
          "output_type": "stream",
          "name": "stdout",
          "text": [
            "Collecting apyori\n",
            "  Downloading apyori-1.1.2.tar.gz (8.6 kB)\n",
            "Building wheels for collected packages: apyori\n",
            "  Building wheel for apyori (setup.py) ... \u001b[?25l\u001b[?25hdone\n",
            "  Created wheel for apyori: filename=apyori-1.1.2-py3-none-any.whl size=5974 sha256=d18a25c8f7b8da68398dfa3574e7622cac4b1caeb1cd66c9cf95e7d6b719a792\n",
            "  Stored in directory: /root/.cache/pip/wheels/cb/f6/e1/57973c631d27efd1a2f375bd6a83b2a616c4021f24aab84080\n",
            "Successfully built apyori\n",
            "Installing collected packages: apyori\n",
            "Successfully installed apyori-1.1.2\n"
          ]
        }
      ]
    },
    {
      "cell_type": "code",
      "metadata": {
        "colab": {
          "resources": {
            "http://localhost:8080/nbextensions/google.colab/files.js": {
              "data": "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",
              "ok": true,
              "headers": [
                [
                  "content-type",
                  "application/javascript"
                ]
              ],
              "status": 200,
              "status_text": ""
            }
          },
          "base_uri": "https://localhost:8080/",
          "height": 72
        },
        "id": "XYK757-dR4H_",
        "outputId": "207b8f6e-50e5-4c5b-9b77-9fc62625c0c1"
      },
      "source": [
        "import itertools\n",
        "from datetime import datetime\n",
        "import io\n",
        "from google.colab import files\n",
        "uploaded = files.upload()"
      ],
      "execution_count": null,
      "outputs": [
        {
          "output_type": "display_data",
          "data": {
            "text/html": [
              "\n",
              "     <input type=\"file\" id=\"files-d118fd3b-46ba-49a8-850c-7e347af491d8\" name=\"files[]\" multiple disabled\n",
              "        style=\"border:none\" />\n",
              "     <output id=\"result-d118fd3b-46ba-49a8-850c-7e347af491d8\">\n",
              "      Upload widget is only available when the cell has been executed in the\n",
              "      current browser session. Please rerun this cell to enable.\n",
              "      </output>\n",
              "      <script src=\"/nbextensions/google.colab/files.js\"></script> "
            ],
            "text/plain": [
              "<IPython.core.display.HTML object>"
            ]
          },
          "metadata": {}
        },
        {
          "output_type": "stream",
          "name": "stdout",
          "text": [
            "Saving Groceries_dataset.csv to Groceries_dataset.csv\n"
          ]
        }
      ]
    },
    {
      "cell_type": "code",
      "metadata": {
        "id": "zZa7xbl8SAEO"
      },
      "source": [
        "data=pd.read_csv(io.StringIO(uploaded['Groceries_dataset.csv'].decode('utf-8')))"
      ],
      "execution_count": null,
      "outputs": []
    },
    {
      "cell_type": "code",
      "metadata": {
        "colab": {
          "base_uri": "https://localhost:8080/",
          "height": 147
        },
        "id": "tF36_dzaSNW3",
        "outputId": "fc7e800c-ac15-41fe-d5d1-790e91a3e807"
      },
      "source": [
        "des=data.head()\n",
        "cm=sns.light_palette('b',as_cmap=True)\n",
        "s=des.style.background_gradient(cmap=cm)\n",
        "s"
      ],
      "execution_count": null,
      "outputs": [
        {
          "output_type": "execute_result",
          "data": {
            "text/html": [
              "<style  type=\"text/css\" >\n",
              "#T_1835194c_2242_11ec_bfa3_0242ac1c0002row0_col0{\n",
              "            background-color:  #a0a0f7;\n",
              "            color:  #000000;\n",
              "        }#T_1835194c_2242_11ec_bfa3_0242ac1c0002row1_col0{\n",
              "            background-color:  #3f3ffc;\n",
              "            color:  #f1f1f1;\n",
              "        }#T_1835194c_2242_11ec_bfa3_0242ac1c0002row2_col0{\n",
              "            background-color:  #5f5ffa;\n",
              "            color:  #000000;\n",
              "        }#T_1835194c_2242_11ec_bfa3_0242ac1c0002row3_col0{\n",
              "            background-color:  #f0f0f3;\n",
              "            color:  #000000;\n",
              "        }#T_1835194c_2242_11ec_bfa3_0242ac1c0002row4_col0{\n",
              "            background-color:  #0000ff;\n",
              "            color:  #f1f1f1;\n",
              "        }</style><table id=\"T_1835194c_2242_11ec_bfa3_0242ac1c0002\" ><thead>    <tr>        <th class=\"blank level0\" ></th>        <th class=\"col_heading level0 col0\" >Member_number</th>        <th class=\"col_heading level0 col1\" >Date</th>        <th class=\"col_heading level0 col2\" >itemDescription</th>    </tr></thead><tbody>\n",
              "                <tr>\n",
              "                        <th id=\"T_1835194c_2242_11ec_bfa3_0242ac1c0002level0_row0\" class=\"row_heading level0 row0\" >0</th>\n",
              "                        <td id=\"T_1835194c_2242_11ec_bfa3_0242ac1c0002row0_col0\" class=\"data row0 col0\" >1808</td>\n",
              "                        <td id=\"T_1835194c_2242_11ec_bfa3_0242ac1c0002row0_col1\" class=\"data row0 col1\" >21-07-2015</td>\n",
              "                        <td id=\"T_1835194c_2242_11ec_bfa3_0242ac1c0002row0_col2\" class=\"data row0 col2\" >tropical fruit</td>\n",
              "            </tr>\n",
              "            <tr>\n",
              "                        <th id=\"T_1835194c_2242_11ec_bfa3_0242ac1c0002level0_row1\" class=\"row_heading level0 row1\" >1</th>\n",
              "                        <td id=\"T_1835194c_2242_11ec_bfa3_0242ac1c0002row1_col0\" class=\"data row1 col0\" >2552</td>\n",
              "                        <td id=\"T_1835194c_2242_11ec_bfa3_0242ac1c0002row1_col1\" class=\"data row1 col1\" >05-01-2015</td>\n",
              "                        <td id=\"T_1835194c_2242_11ec_bfa3_0242ac1c0002row1_col2\" class=\"data row1 col2\" >whole milk</td>\n",
              "            </tr>\n",
              "            <tr>\n",
              "                        <th id=\"T_1835194c_2242_11ec_bfa3_0242ac1c0002level0_row2\" class=\"row_heading level0 row2\" >2</th>\n",
              "                        <td id=\"T_1835194c_2242_11ec_bfa3_0242ac1c0002row2_col0\" class=\"data row2 col0\" >2300</td>\n",
              "                        <td id=\"T_1835194c_2242_11ec_bfa3_0242ac1c0002row2_col1\" class=\"data row2 col1\" >19-09-2015</td>\n",
              "                        <td id=\"T_1835194c_2242_11ec_bfa3_0242ac1c0002row2_col2\" class=\"data row2 col2\" >pip fruit</td>\n",
              "            </tr>\n",
              "            <tr>\n",
              "                        <th id=\"T_1835194c_2242_11ec_bfa3_0242ac1c0002level0_row3\" class=\"row_heading level0 row3\" >3</th>\n",
              "                        <td id=\"T_1835194c_2242_11ec_bfa3_0242ac1c0002row3_col0\" class=\"data row3 col0\" >1187</td>\n",
              "                        <td id=\"T_1835194c_2242_11ec_bfa3_0242ac1c0002row3_col1\" class=\"data row3 col1\" >12-12-2015</td>\n",
              "                        <td id=\"T_1835194c_2242_11ec_bfa3_0242ac1c0002row3_col2\" class=\"data row3 col2\" >other vegetables</td>\n",
              "            </tr>\n",
              "            <tr>\n",
              "                        <th id=\"T_1835194c_2242_11ec_bfa3_0242ac1c0002level0_row4\" class=\"row_heading level0 row4\" >4</th>\n",
              "                        <td id=\"T_1835194c_2242_11ec_bfa3_0242ac1c0002row4_col0\" class=\"data row4 col0\" >3037</td>\n",
              "                        <td id=\"T_1835194c_2242_11ec_bfa3_0242ac1c0002row4_col1\" class=\"data row4 col1\" >01-02-2015</td>\n",
              "                        <td id=\"T_1835194c_2242_11ec_bfa3_0242ac1c0002row4_col2\" class=\"data row4 col2\" >whole milk</td>\n",
              "            </tr>\n",
              "    </tbody></table>"
            ],
            "text/plain": [
              "<pandas.io.formats.style.Styler at 0x7fb5a3cb8450>"
            ]
          },
          "metadata": {},
          "execution_count": 6
        }
      ]
    },
    {
      "cell_type": "code",
      "metadata": {
        "colab": {
          "base_uri": "https://localhost:8080/"
        },
        "id": "cG0LSS4xSPwR",
        "outputId": "28aa218a-4ec5-42cd-9297-e558bf481f9d"
      },
      "source": [
        "data.isna().sum()"
      ],
      "execution_count": null,
      "outputs": [
        {
          "output_type": "execute_result",
          "data": {
            "text/plain": [
              "Member_number      0\n",
              "Date               0\n",
              "itemDescription    0\n",
              "dtype: int64"
            ]
          },
          "metadata": {},
          "execution_count": 7
        }
      ]
    },
    {
      "cell_type": "code",
      "metadata": {
        "id": "UOAhSv2JSlOp"
      },
      "source": [
        "data.Date = pd.to_datetime(data['Date'])\n",
        "data['year'] = data['Date'].dt.year\n",
        "data['month'] = data['Date'].dt.month\n",
        "data['day'] = data['Date'].dt.day\n",
        "data['No_day'] = data['Date'].dt.dayofweek"
      ],
      "execution_count": null,
      "outputs": []
    },
    {
      "cell_type": "code",
      "metadata": {
        "colab": {
          "base_uri": "https://localhost:8080/",
          "height": 199
        },
        "id": "J9PN9RteSokm",
        "outputId": "ed5a4198-faba-47e4-aba0-6b495c59ff94"
      },
      "source": [
        "z=data.head()\n",
        "cm=sns.light_palette('Y',as_cmap=True)\n",
        "s=z.style.background_gradient(cmap=cm)\n",
        "s"
      ],
      "execution_count": null,
      "outputs": [
        {
          "output_type": "stream",
          "name": "stderr",
          "text": [
            "/usr/local/lib/python3.7/dist-packages/seaborn/palettes.py:467: MatplotlibDeprecationWarning: Support for uppercase single-letter colors is deprecated since Matplotlib 3.1 and will be removed in 3.3; please use lowercase instead.\n",
            "  return mpl.colors.to_rgb(color)\n"
          ]
        },
        {
          "output_type": "execute_result",
          "data": {
            "text/html": [
              "<style  type=\"text/css\" >\n",
              "#T_780564b4_2448_11ec_9444_0242ac1c0002row0_col0{\n",
              "            background-color:  #e1e194;\n",
              "            color:  #000000;\n",
              "        }#T_780564b4_2448_11ec_9444_0242ac1c0002row0_col3,#T_780564b4_2448_11ec_9444_0242ac1c0002row0_col6,#T_780564b4_2448_11ec_9444_0242ac1c0002row1_col3,#T_780564b4_2448_11ec_9444_0242ac1c0002row1_col5,#T_780564b4_2448_11ec_9444_0242ac1c0002row2_col3,#T_780564b4_2448_11ec_9444_0242ac1c0002row3_col0,#T_780564b4_2448_11ec_9444_0242ac1c0002row3_col3,#T_780564b4_2448_11ec_9444_0242ac1c0002row4_col3,#T_780564b4_2448_11ec_9444_0242ac1c0002row4_col4{\n",
              "            background-color:  #f2f2dd;\n",
              "            color:  #000000;\n",
              "        }#T_780564b4_2448_11ec_9444_0242ac1c0002row0_col4{\n",
              "            background-color:  #d6d665;\n",
              "            color:  #000000;\n",
              "        }#T_780564b4_2448_11ec_9444_0242ac1c0002row0_col5,#T_780564b4_2448_11ec_9444_0242ac1c0002row2_col6,#T_780564b4_2448_11ec_9444_0242ac1c0002row3_col4,#T_780564b4_2448_11ec_9444_0242ac1c0002row3_col6,#T_780564b4_2448_11ec_9444_0242ac1c0002row4_col0{\n",
              "            background-color:  #bfbf00;\n",
              "            color:  #000000;\n",
              "        }#T_780564b4_2448_11ec_9444_0242ac1c0002row1_col0{\n",
              "            background-color:  #cdcd3a;\n",
              "            color:  #000000;\n",
              "        }#T_780564b4_2448_11ec_9444_0242ac1c0002row1_col4{\n",
              "            background-color:  #dfdf8d;\n",
              "            color:  #000000;\n",
              "        }#T_780564b4_2448_11ec_9444_0242ac1c0002row1_col6,#T_780564b4_2448_11ec_9444_0242ac1c0002row4_col6{\n",
              "            background-color:  #cccc37;\n",
              "            color:  #000000;\n",
              "        }#T_780564b4_2448_11ec_9444_0242ac1c0002row2_col0{\n",
              "            background-color:  #d3d358;\n",
              "            color:  #000000;\n",
              "        }#T_780564b4_2448_11ec_9444_0242ac1c0002row2_col4{\n",
              "            background-color:  #cdcd3c;\n",
              "            color:  #000000;\n",
              "        }#T_780564b4_2448_11ec_9444_0242ac1c0002row2_col5{\n",
              "            background-color:  #c4c416;\n",
              "            color:  #000000;\n",
              "        }#T_780564b4_2448_11ec_9444_0242ac1c0002row3_col5{\n",
              "            background-color:  #d6d664;\n",
              "            color:  #000000;\n",
              "        }#T_780564b4_2448_11ec_9444_0242ac1c0002row4_col5{\n",
              "            background-color:  #f0f0d3;\n",
              "            color:  #000000;\n",
              "        }</style><table id=\"T_780564b4_2448_11ec_9444_0242ac1c0002\" ><thead>    <tr>        <th class=\"blank level0\" ></th>        <th class=\"col_heading level0 col0\" >Member_number</th>        <th class=\"col_heading level0 col1\" >Date</th>        <th class=\"col_heading level0 col2\" >itemDescription</th>        <th class=\"col_heading level0 col3\" >year</th>        <th class=\"col_heading level0 col4\" >month</th>        <th class=\"col_heading level0 col5\" >day</th>        <th class=\"col_heading level0 col6\" >No_day</th>    </tr></thead><tbody>\n",
              "                <tr>\n",
              "                        <th id=\"T_780564b4_2448_11ec_9444_0242ac1c0002level0_row0\" class=\"row_heading level0 row0\" >0</th>\n",
              "                        <td id=\"T_780564b4_2448_11ec_9444_0242ac1c0002row0_col0\" class=\"data row0 col0\" >1808</td>\n",
              "                        <td id=\"T_780564b4_2448_11ec_9444_0242ac1c0002row0_col1\" class=\"data row0 col1\" >2015-07-21 00:00:00</td>\n",
              "                        <td id=\"T_780564b4_2448_11ec_9444_0242ac1c0002row0_col2\" class=\"data row0 col2\" >tropical fruit</td>\n",
              "                        <td id=\"T_780564b4_2448_11ec_9444_0242ac1c0002row0_col3\" class=\"data row0 col3\" >2015</td>\n",
              "                        <td id=\"T_780564b4_2448_11ec_9444_0242ac1c0002row0_col4\" class=\"data row0 col4\" >7</td>\n",
              "                        <td id=\"T_780564b4_2448_11ec_9444_0242ac1c0002row0_col5\" class=\"data row0 col5\" >21</td>\n",
              "                        <td id=\"T_780564b4_2448_11ec_9444_0242ac1c0002row0_col6\" class=\"data row0 col6\" >1</td>\n",
              "            </tr>\n",
              "            <tr>\n",
              "                        <th id=\"T_780564b4_2448_11ec_9444_0242ac1c0002level0_row1\" class=\"row_heading level0 row1\" >1</th>\n",
              "                        <td id=\"T_780564b4_2448_11ec_9444_0242ac1c0002row1_col0\" class=\"data row1 col0\" >2552</td>\n",
              "                        <td id=\"T_780564b4_2448_11ec_9444_0242ac1c0002row1_col1\" class=\"data row1 col1\" >2015-05-01 00:00:00</td>\n",
              "                        <td id=\"T_780564b4_2448_11ec_9444_0242ac1c0002row1_col2\" class=\"data row1 col2\" >whole milk</td>\n",
              "                        <td id=\"T_780564b4_2448_11ec_9444_0242ac1c0002row1_col3\" class=\"data row1 col3\" >2015</td>\n",
              "                        <td id=\"T_780564b4_2448_11ec_9444_0242ac1c0002row1_col4\" class=\"data row1 col4\" >5</td>\n",
              "                        <td id=\"T_780564b4_2448_11ec_9444_0242ac1c0002row1_col5\" class=\"data row1 col5\" >1</td>\n",
              "                        <td id=\"T_780564b4_2448_11ec_9444_0242ac1c0002row1_col6\" class=\"data row1 col6\" >4</td>\n",
              "            </tr>\n",
              "            <tr>\n",
              "                        <th id=\"T_780564b4_2448_11ec_9444_0242ac1c0002level0_row2\" class=\"row_heading level0 row2\" >2</th>\n",
              "                        <td id=\"T_780564b4_2448_11ec_9444_0242ac1c0002row2_col0\" class=\"data row2 col0\" >2300</td>\n",
              "                        <td id=\"T_780564b4_2448_11ec_9444_0242ac1c0002row2_col1\" class=\"data row2 col1\" >2015-09-19 00:00:00</td>\n",
              "                        <td id=\"T_780564b4_2448_11ec_9444_0242ac1c0002row2_col2\" class=\"data row2 col2\" >pip fruit</td>\n",
              "                        <td id=\"T_780564b4_2448_11ec_9444_0242ac1c0002row2_col3\" class=\"data row2 col3\" >2015</td>\n",
              "                        <td id=\"T_780564b4_2448_11ec_9444_0242ac1c0002row2_col4\" class=\"data row2 col4\" >9</td>\n",
              "                        <td id=\"T_780564b4_2448_11ec_9444_0242ac1c0002row2_col5\" class=\"data row2 col5\" >19</td>\n",
              "                        <td id=\"T_780564b4_2448_11ec_9444_0242ac1c0002row2_col6\" class=\"data row2 col6\" >5</td>\n",
              "            </tr>\n",
              "            <tr>\n",
              "                        <th id=\"T_780564b4_2448_11ec_9444_0242ac1c0002level0_row3\" class=\"row_heading level0 row3\" >3</th>\n",
              "                        <td id=\"T_780564b4_2448_11ec_9444_0242ac1c0002row3_col0\" class=\"data row3 col0\" >1187</td>\n",
              "                        <td id=\"T_780564b4_2448_11ec_9444_0242ac1c0002row3_col1\" class=\"data row3 col1\" >2015-12-12 00:00:00</td>\n",
              "                        <td id=\"T_780564b4_2448_11ec_9444_0242ac1c0002row3_col2\" class=\"data row3 col2\" >other vegetables</td>\n",
              "                        <td id=\"T_780564b4_2448_11ec_9444_0242ac1c0002row3_col3\" class=\"data row3 col3\" >2015</td>\n",
              "                        <td id=\"T_780564b4_2448_11ec_9444_0242ac1c0002row3_col4\" class=\"data row3 col4\" >12</td>\n",
              "                        <td id=\"T_780564b4_2448_11ec_9444_0242ac1c0002row3_col5\" class=\"data row3 col5\" >12</td>\n",
              "                        <td id=\"T_780564b4_2448_11ec_9444_0242ac1c0002row3_col6\" class=\"data row3 col6\" >5</td>\n",
              "            </tr>\n",
              "            <tr>\n",
              "                        <th id=\"T_780564b4_2448_11ec_9444_0242ac1c0002level0_row4\" class=\"row_heading level0 row4\" >4</th>\n",
              "                        <td id=\"T_780564b4_2448_11ec_9444_0242ac1c0002row4_col0\" class=\"data row4 col0\" >3037</td>\n",
              "                        <td id=\"T_780564b4_2448_11ec_9444_0242ac1c0002row4_col1\" class=\"data row4 col1\" >2015-01-02 00:00:00</td>\n",
              "                        <td id=\"T_780564b4_2448_11ec_9444_0242ac1c0002row4_col2\" class=\"data row4 col2\" >whole milk</td>\n",
              "                        <td id=\"T_780564b4_2448_11ec_9444_0242ac1c0002row4_col3\" class=\"data row4 col3\" >2015</td>\n",
              "                        <td id=\"T_780564b4_2448_11ec_9444_0242ac1c0002row4_col4\" class=\"data row4 col4\" >1</td>\n",
              "                        <td id=\"T_780564b4_2448_11ec_9444_0242ac1c0002row4_col5\" class=\"data row4 col5\" >2</td>\n",
              "                        <td id=\"T_780564b4_2448_11ec_9444_0242ac1c0002row4_col6\" class=\"data row4 col6\" >4</td>\n",
              "            </tr>\n",
              "    </tbody></table>"
            ],
            "text/plain": [
              "<pandas.io.formats.style.Styler at 0x7f9c74e1a510>"
            ]
          },
          "metadata": {},
          "execution_count": 9
        }
      ]
    },
    {
      "cell_type": "code",
      "metadata": {
        "colab": {
          "base_uri": "https://localhost:8080/",
          "height": 143
        },
        "id": "8CpDZXeSSrd3",
        "outputId": "54ae747a-b685-451b-b447-267edd8ae693"
      },
      "source": [
        "df_year = data.groupby('year')\n",
        "df_year['itemDescription'].agg(['count'])"
      ],
      "execution_count": null,
      "outputs": [
        {
          "output_type": "execute_result",
          "data": {
            "text/html": [
              "<div>\n",
              "<style scoped>\n",
              "    .dataframe tbody tr th:only-of-type {\n",
              "        vertical-align: middle;\n",
              "    }\n",
              "\n",
              "    .dataframe tbody tr th {\n",
              "        vertical-align: top;\n",
              "    }\n",
              "\n",
              "    .dataframe thead th {\n",
              "        text-align: right;\n",
              "    }\n",
              "</style>\n",
              "<table border=\"1\" class=\"dataframe\">\n",
              "  <thead>\n",
              "    <tr style=\"text-align: right;\">\n",
              "      <th></th>\n",
              "      <th>count</th>\n",
              "    </tr>\n",
              "    <tr>\n",
              "      <th>year</th>\n",
              "      <th></th>\n",
              "    </tr>\n",
              "  </thead>\n",
              "  <tbody>\n",
              "    <tr>\n",
              "      <th>2014</th>\n",
              "      <td>18277</td>\n",
              "    </tr>\n",
              "    <tr>\n",
              "      <th>2015</th>\n",
              "      <td>20488</td>\n",
              "    </tr>\n",
              "  </tbody>\n",
              "</table>\n",
              "</div>"
            ],
            "text/plain": [
              "      count\n",
              "year       \n",
              "2014  18277\n",
              "2015  20488"
            ]
          },
          "metadata": {},
          "execution_count": 10
        }
      ]
    },
    {
      "cell_type": "markdown",
      "metadata": {
        "id": "nlbcBNdqS2ix"
      },
      "source": [
        "highest & Least Sellers"
      ]
    },
    {
      "cell_type": "code",
      "metadata": {
        "colab": {
          "base_uri": "https://localhost:8080/",
          "height": 407
        },
        "id": "sPHBo6yMS5Jd",
        "outputId": "7ddba1ad-9f89-4bf0-c9eb-2eadce269967"
      },
      "source": [
        "x=list(data['itemDescription'].value_counts()[:25].values)\n",
        "y=list(data['itemDescription'].value_counts()[:25].index)\n",
        "plt.figure(figsize=(8,6))\n",
        "ax=sns.barplot(x=x,y=y,palette=sns.cubehelix_palette(len(x)))\n",
        "plt.title('highest Sellers')"
      ],
      "execution_count": null,
      "outputs": [
        {
          "output_type": "execute_result",
          "data": {
            "text/plain": [
              "Text(0.5, 1.0, 'highest Sellers')"
            ]
          },
          "metadata": {},
          "execution_count": 26
        },
        {
          "output_type": "display_data",
          "data": {
            "image/png": "[encoded data removed]",
            "text/plain": [
              "<Figure size 576x432 with 1 Axes>"
            ]
          },
          "metadata": {
            "needs_background": "light"
          }
        }
      ]
    },
    {
      "cell_type": "code",
      "metadata": {
        "colab": {
          "base_uri": "https://localhost:8080/",
          "height": 407
        },
        "id": "nwfPb-3xS7-W",
        "outputId": "6dd28e31-0198-45c3-873a-7b3065cb6938"
      },
      "source": [
        "x = list(data['itemDescription'].value_counts()[-25:].values)\n",
        "y = list(data['itemDescription'].value_counts()[-25:].index)\n",
        "\n",
        "plt.figure(figsize=(8,6))\n",
        "ax=sns.barplot(x=x,y=y, palette=sns.color_palette(\"winter_r\"))\n",
        "plt.title('Least Sellers')"
      ],
      "execution_count": null,
      "outputs": [
        {
          "output_type": "execute_result",
          "data": {
            "text/plain": [
              "Text(0.5, 1.0, 'Least Sellers')"
            ]
          },
          "metadata": {},
          "execution_count": 27
        },
        {
          "output_type": "display_data",
          "data": {
            "image/png": "[encoded data removed]",
            "text/plain": [
              "<Figure size 576x432 with 1 Axes>"
            ]
          },
          "metadata": {
            "needs_background": "light"
          }
        }
      ]
    },
    {
      "cell_type": "code",
      "metadata": {
        "colab": {
          "base_uri": "https://localhost:8080/",
          "height": 512
        },
        "id": "wX8mqdTRS-e9",
        "outputId": "78113efc-3512-41a0-ac94-6c54fc9410d8"
      },
      "source": [
        "data['Date'] = pd.to_datetime(data['Date'])\n",
        "plt.figure(figsize=(10,7))\n",
        "sns.countplot(data['Date'].apply(lambda x: x.year))\n",
        "plt.title('When were the purchases made?')\n",
        "plt.xlabel('Year')\n",
        "plt.show()"
      ],
      "execution_count": null,
      "outputs": [
        {
          "output_type": "stream",
          "name": "stderr",
          "text": [
            "/usr/local/lib/python3.7/dist-packages/seaborn/_decorators.py:43: FutureWarning: Pass the following variable as a keyword arg: x. From version 0.12, the only valid positional argument will be `data`, and passing other arguments without an explicit keyword will result in an error or misinterpretation.\n",
            "  FutureWarning\n"
          ]
        },
        {
          "output_type": "display_data",
          "data": {
            "image/png": "[encoded data removed]",
            "text/plain": [
              "<Figure size 720x504 with 1 Axes>"
            ]
          },
          "metadata": {
            "needs_background": "light"
          }
        }
      ]
    },
    {
      "cell_type": "code",
      "metadata": {
        "id": "3DO9ssDzTLT6"
      },
      "source": [
        "df_year2014 = data[data['year']==2014]\n",
        "df_year2015 = data[data['year']==2015]"
      ],
      "execution_count": null,
      "outputs": []
    },
    {
      "cell_type": "code",
      "metadata": {
        "colab": {
          "base_uri": "https://localhost:8080/",
          "height": 407
        },
        "id": "SxBeIb4STRRf",
        "outputId": "61a5284c-0e8a-46d3-f1a1-1e6d9311a840"
      },
      "source": [
        "x = list(df_year2014['itemDescription'].value_counts()[:15].index)\n",
        "y = list(df_year2014['itemDescription'].value_counts()[:15].values)\n",
        "\n",
        "plt.figure(figsize=(8,6))\n",
        "ax=sns.barplot(x=y,y=x, palette=sns.cubehelix_palette(len(x)))\n",
        "plt.title('highest Sellers(2014)')"
      ],
      "execution_count": null,
      "outputs": [
        {
          "output_type": "execute_result",
          "data": {
            "text/plain": [
              "Text(0.5, 1.0, 'highest Sellers(2014)')"
            ]
          },
          "metadata": {},
          "execution_count": 30
        },
        {
          "output_type": "display_data",
          "data": {
            "image/png": "[encoded data removed]",
            "text/plain": [
              "<Figure size 576x432 with 1 Axes>"
            ]
          },
          "metadata": {
            "needs_background": "light"
          }
        }
      ]
    },
    {
      "cell_type": "code",
      "metadata": {
        "colab": {
          "base_uri": "https://localhost:8080/",
          "height": 407
        },
        "id": "78Eng-0nTSyX",
        "outputId": "7de153b0-2c3a-4549-f007-d30783fa6be5"
      },
      "source": [
        "x = list(df_year2014['itemDescription'].value_counts()[-15:].index)\n",
        "y = list(df_year2014['itemDescription'].value_counts()[-15:].values)\n",
        "\n",
        "plt.figure(figsize=(8,6))\n",
        "ax=sns.barplot(x=y,y=x,palette=sns.color_palette(\"winter_r\"))\n",
        "plt.title('Least  Sellers(2014)')"
      ],
      "execution_count": null,
      "outputs": [
        {
          "output_type": "execute_result",
          "data": {
            "text/plain": [
              "Text(0.5, 1.0, 'Least  Sellers(2014)')"
            ]
          },
          "metadata": {},
          "execution_count": 31
        },
        {
          "output_type": "display_data",
          "data": {
            "image/png": "[encoded data removed]",
            "text/plain": [
              "<Figure size 576x432 with 1 Axes>"
            ]
          },
          "metadata": {
            "needs_background": "light"
          }
        }
      ]
    },
    {
      "cell_type": "code",
      "metadata": {
        "colab": {
          "base_uri": "https://localhost:8080/",
          "height": 407
        },
        "id": "a2rmUFa7TVzF",
        "outputId": "a22bc946-5919-4f74-fdd1-aa07a8a91275"
      },
      "source": [
        "x = list(df_year2015['itemDescription'].value_counts()[:15].index)\n",
        "y = list(df_year2015['itemDescription'].value_counts()[:15].values)\n",
        "\n",
        "plt.figure(figsize=(8,6))\n",
        "ax=sns.barplot(x=y,y=x, palette=sns.cubehelix_palette(len(x)))\n",
        "plt.title('Best Sellers(2015)')"
      ],
      "execution_count": null,
      "outputs": [
        {
          "output_type": "execute_result",
          "data": {
            "text/plain": [
              "Text(0.5, 1.0, 'Best Sellers(2015)')"
            ]
          },
          "metadata": {},
          "execution_count": 32
        },
        {
          "output_type": "display_data",
          "data": {
            "image/png": "[encoded data removed]",
            "text/plain": [
              "<Figure size 576x432 with 1 Axes>"
            ]
          },
          "metadata": {
            "needs_background": "light"
          }
        }
      ]
    },
    {
      "cell_type": "code",
      "metadata": {
        "colab": {
          "base_uri": "https://localhost:8080/",
          "height": 407
        },
        "id": "uXZw1iM9TY6I",
        "outputId": "777c52be-55c8-4347-fb32-9d4a9faae292"
      },
      "source": [
        "\n",
        "x = list(df_year2015['itemDescription'].value_counts()[-15:].index)\n",
        "y = list(df_year2015['itemDescription'].value_counts()[-15:].values)\n",
        "\n",
        "plt.figure(figsize=(8,6))\n",
        "ax=sns.barplot(x=y,y=x, palette=sns.color_palette(\"winter_r\"))\n",
        "plt.title('Least Sellers(2015)')"
      ],
      "execution_count": null,
      "outputs": [
        {
          "output_type": "execute_result",
          "data": {
            "text/plain": [
              "Text(0.5, 1.0, 'Least Sellers(2015)')"
            ]
          },
          "metadata": {},
          "execution_count": 33
        },
        {
          "output_type": "display_data",
          "data": {
            "image/png": "[encoded data removed]",
            "text/plain": [
              "<Figure size 576x432 with 1 Axes>"
            ]
          },
          "metadata": {
            "needs_background": "light"
          }
        }
      ]
    },
    {
      "cell_type": "code",
      "metadata": {
        "colab": {
          "base_uri": "https://localhost:8080/",
          "height": 458
        },
        "id": "qBW7ikUWTdTz",
        "outputId": "1d55e788-4d3e-4b94-f527-52042efad7d0"
      },
      "source": [
        "df3 = data.copy()\n",
        "df3['Year'] = data['Date'].apply(lambda x: x.year)\n",
        "df3['Month'] = data['Date'].apply(lambda x: x.month)\n",
        "df3.drop(['Member_number','Date'],axis=1,inplace=True)\n",
        "df3 = df3.groupby(['Year','Month']).count().reset_index()\n",
        "\n",
        "\n",
        "\n",
        "d_2014 = df3[df3['Year'] == 2014]\n",
        "d_2015 = df3[df3['Year'] == 2015]\n",
        "\n",
        "\n",
        "plt.figure(figsize=(10,7))\n",
        "plt.plot(d_2014['Month'],d_2014['itemDescription'],label='2014')\n",
        "plt.plot(d_2015['Month'],d_2015['itemDescription'],label='2015')\n",
        "plt.title('Number of items sold (each month)')\n",
        "plt.xlabel('Month')\n",
        "plt.ylabel('item count')\n",
        "plt.legend()\n",
        "plt.show()"
      ],
      "execution_count": null,
      "outputs": [
        {
          "output_type": "display_data",
          "data": {
            "image/png": "[encoded data removed]",
            "text/plain": [
              "<Figure size 720x504 with 1 Axes>"
            ]
          },
          "metadata": {
            "needs_background": "light"
          }
        }
      ]
    },
    {
      "cell_type": "code",
      "metadata": {
        "colab": {
          "base_uri": "https://localhost:8080/",
          "height": 419
        },
        "id": "sgUjQVfXThyC",
        "outputId": "866ee69b-e7c1-4e87-cb0b-a8fdfb540768"
      },
      "source": [
        "df1 = data.groupby('itemDescription').count().sort_values(by='Member_number',ascending=False).reset_index()\n",
        "df1.rename(columns={'itemDescription': 'Item',\n",
        "                   'Member_number': 'Number of sales'},inplace=True)\n",
        "df1.drop(['Date','year','month','day','No_day'],axis=1,inplace=True)\n",
        "df1"
      ],
      "execution_count": null,
      "outputs": [
        {
          "output_type": "execute_result",
          "data": {
            "text/html": [
              "<div>\n",
              "<style scoped>\n",
              "    .dataframe tbody tr th:only-of-type {\n",
              "        vertical-align: middle;\n",
              "    }\n",
              "\n",
              "    .dataframe tbody tr th {\n",
              "        vertical-align: top;\n",
              "    }\n",
              "\n",
              "    .dataframe thead th {\n",
              "        text-align: right;\n",
              "    }\n",
              "</style>\n",
              "<table border=\"1\" class=\"dataframe\">\n",
              "  <thead>\n",
              "    <tr style=\"text-align: right;\">\n",
              "      <th></th>\n",
              "      <th>Item</th>\n",
              "      <th>Number of sales</th>\n",
              "    </tr>\n",
              "  </thead>\n",
              "  <tbody>\n",
              "    <tr>\n",
              "      <th>0</th>\n",
              "      <td>whole milk</td>\n",
              "      <td>2502</td>\n",
              "    </tr>\n",
              "    <tr>\n",
              "      <th>1</th>\n",
              "      <td>other vegetables</td>\n",
              "      <td>1898</td>\n",
              "    </tr>\n",
              "    <tr>\n",
              "      <th>2</th>\n",
              "      <td>rolls/buns</td>\n",
              "      <td>1716</td>\n",
              "    </tr>\n",
              "    <tr>\n",
              "      <th>3</th>\n",
              "      <td>soda</td>\n",
              "      <td>1514</td>\n",
              "    </tr>\n",
              "    <tr>\n",
              "      <th>4</th>\n",
              "      <td>yogurt</td>\n",
              "      <td>1334</td>\n",
              "    </tr>\n",
              "    <tr>\n",
              "      <th>...</th>\n",
              "      <td>...</td>\n",
              "      <td>...</td>\n",
              "    </tr>\n",
              "    <tr>\n",
              "      <th>162</th>\n",
              "      <td>rubbing alcohol</td>\n",
              "      <td>5</td>\n",
              "    </tr>\n",
              "    <tr>\n",
              "      <th>163</th>\n",
              "      <td>bags</td>\n",
              "      <td>4</td>\n",
              "    </tr>\n",
              "    <tr>\n",
              "      <th>164</th>\n",
              "      <td>baby cosmetics</td>\n",
              "      <td>3</td>\n",
              "    </tr>\n",
              "    <tr>\n",
              "      <th>165</th>\n",
              "      <td>preservation products</td>\n",
              "      <td>1</td>\n",
              "    </tr>\n",
              "    <tr>\n",
              "      <th>166</th>\n",
              "      <td>kitchen utensil</td>\n",
              "      <td>1</td>\n",
              "    </tr>\n",
              "  </tbody>\n",
              "</table>\n",
              "<p>167 rows × 2 columns</p>\n",
              "</div>"
            ],
            "text/plain": [
              "                      Item  Number of sales\n",
              "0               whole milk             2502\n",
              "1         other vegetables             1898\n",
              "2               rolls/buns             1716\n",
              "3                     soda             1514\n",
              "4                   yogurt             1334\n",
              "..                     ...              ...\n",
              "162        rubbing alcohol                5\n",
              "163                   bags                4\n",
              "164         baby cosmetics                3\n",
              "165  preservation products                1\n",
              "166        kitchen utensil                1\n",
              "\n",
              "[167 rows x 2 columns]"
            ]
          },
          "metadata": {},
          "execution_count": 23
        }
      ]
    },
    {
      "cell_type": "code",
      "metadata": {
        "colab": {
          "base_uri": "https://localhost:8080/",
          "height": 419
        },
        "id": "fty0tDkSTlTx",
        "outputId": "1b4d1754-6501-46b7-b527-04080f5aca88"
      },
      "source": [
        "df_final=data.groupby('itemDescription').count().sort_values(by='Member_number',ascending=False).reset_index()\n",
        "\n",
        "df_final.drop(['Date'],axis=1,inplace=True)\n",
        "df_final"
      ],
      "execution_count": null,
      "outputs": [
        {
          "output_type": "execute_result",
          "data": {
            "text/html": [
              "<div>\n",
              "<style scoped>\n",
              "    .dataframe tbody tr th:only-of-type {\n",
              "        vertical-align: middle;\n",
              "    }\n",
              "\n",
              "    .dataframe tbody tr th {\n",
              "        vertical-align: top;\n",
              "    }\n",
              "\n",
              "    .dataframe thead th {\n",
              "        text-align: right;\n",
              "    }\n",
              "</style>\n",
              "<table border=\"1\" class=\"dataframe\">\n",
              "  <thead>\n",
              "    <tr style=\"text-align: right;\">\n",
              "      <th></th>\n",
              "      <th>itemDescription</th>\n",
              "      <th>Member_number</th>\n",
              "      <th>year</th>\n",
              "      <th>month</th>\n",
              "      <th>day</th>\n",
              "      <th>No_day</th>\n",
              "    </tr>\n",
              "  </thead>\n",
              "  <tbody>\n",
              "    <tr>\n",
              "      <th>0</th>\n",
              "      <td>whole milk</td>\n",
              "      <td>2502</td>\n",
              "      <td>2502</td>\n",
              "      <td>2502</td>\n",
              "      <td>2502</td>\n",
              "      <td>2502</td>\n",
              "    </tr>\n",
              "    <tr>\n",
              "      <th>1</th>\n",
              "      <td>other vegetables</td>\n",
              "      <td>1898</td>\n",
              "      <td>1898</td>\n",
              "      <td>1898</td>\n",
              "      <td>1898</td>\n",
              "      <td>1898</td>\n",
              "    </tr>\n",
              "    <tr>\n",
              "      <th>2</th>\n",
              "      <td>rolls/buns</td>\n",
              "      <td>1716</td>\n",
              "      <td>1716</td>\n",
              "      <td>1716</td>\n",
              "      <td>1716</td>\n",
              "      <td>1716</td>\n",
              "    </tr>\n",
              "    <tr>\n",
              "      <th>3</th>\n",
              "      <td>soda</td>\n",
              "      <td>1514</td>\n",
              "      <td>1514</td>\n",
              "      <td>1514</td>\n",
              "      <td>1514</td>\n",
              "      <td>1514</td>\n",
              "    </tr>\n",
              "    <tr>\n",
              "      <th>4</th>\n",
              "      <td>yogurt</td>\n",
              "      <td>1334</td>\n",
              "      <td>1334</td>\n",
              "      <td>1334</td>\n",
              "      <td>1334</td>\n",
              "      <td>1334</td>\n",
              "    </tr>\n",
              "    <tr>\n",
              "      <th>...</th>\n",
              "      <td>...</td>\n",
              "      <td>...</td>\n",
              "      <td>...</td>\n",
              "      <td>...</td>\n",
              "      <td>...</td>\n",
              "      <td>...</td>\n",
              "    </tr>\n",
              "    <tr>\n",
              "      <th>162</th>\n",
              "      <td>rubbing alcohol</td>\n",
              "      <td>5</td>\n",
              "      <td>5</td>\n",
              "      <td>5</td>\n",
              "      <td>5</td>\n",
              "      <td>5</td>\n",
              "    </tr>\n",
              "    <tr>\n",
              "      <th>163</th>\n",
              "      <td>bags</td>\n",
              "      <td>4</td>\n",
              "      <td>4</td>\n",
              "      <td>4</td>\n",
              "      <td>4</td>\n",
              "      <td>4</td>\n",
              "    </tr>\n",
              "    <tr>\n",
              "      <th>164</th>\n",
              "      <td>baby cosmetics</td>\n",
              "      <td>3</td>\n",
              "      <td>3</td>\n",
              "      <td>3</td>\n",
              "      <td>3</td>\n",
              "      <td>3</td>\n",
              "    </tr>\n",
              "    <tr>\n",
              "      <th>165</th>\n",
              "      <td>preservation products</td>\n",
              "      <td>1</td>\n",
              "      <td>1</td>\n",
              "      <td>1</td>\n",
              "      <td>1</td>\n",
              "      <td>1</td>\n",
              "    </tr>\n",
              "    <tr>\n",
              "      <th>166</th>\n",
              "      <td>kitchen utensil</td>\n",
              "      <td>1</td>\n",
              "      <td>1</td>\n",
              "      <td>1</td>\n",
              "      <td>1</td>\n",
              "      <td>1</td>\n",
              "    </tr>\n",
              "  </tbody>\n",
              "</table>\n",
              "<p>167 rows × 6 columns</p>\n",
              "</div>"
            ],
            "text/plain": [
              "           itemDescription  Member_number  year  month   day  No_day\n",
              "0               whole milk           2502  2502   2502  2502    2502\n",
              "1         other vegetables           1898  1898   1898  1898    1898\n",
              "2               rolls/buns           1716  1716   1716  1716    1716\n",
              "3                     soda           1514  1514   1514  1514    1514\n",
              "4                   yogurt           1334  1334   1334  1334    1334\n",
              "..                     ...            ...   ...    ...   ...     ...\n",
              "162        rubbing alcohol              5     5      5     5       5\n",
              "163                   bags              4     4      4     4       4\n",
              "164         baby cosmetics              3     3      3     3       3\n",
              "165  preservation products              1     1      1     1       1\n",
              "166        kitchen utensil              1     1      1     1       1\n",
              "\n",
              "[167 rows x 6 columns]"
            ]
          },
          "metadata": {},
          "execution_count": 24
        }
      ]
    },
    {
      "cell_type": "code",
      "metadata": {
        "colab": {
          "base_uri": "https://localhost:8080/",
          "height": 542
        },
        "id": "jgQaJx87To23",
        "outputId": "348e4cf1-0b4a-4cb9-9a68-adf51db0a0c8"
      },
      "source": [
        "import plotly.express as px\n",
        "df1 = data.groupby('itemDescription').count().sort_values(by='Member_number',ascending=False).head(10).reset_index()\n",
        "#df1.drop(['Date'],axis=1,inplace=True)\n",
        "df1.rename(columns={'itemDescription': 'Item',\n",
        "                   'Member_number' : 'Number of sales'},inplace=True)\n",
        "fig = px.bar(df1,\n",
        "             x='Item',\n",
        "             y='Number of sales',\n",
        "             title= 'Most purchased items')\n",
        "fig.show()"
      ],
      "execution_count": null,
      "outputs": [
        {
          "output_type": "display_data",
          "data": {
            "text/html": [
              "<html>\n",
              "<head><meta charset=\"utf-8\" /></head>\n",
              "<body>\n",
              "    <div>\n",
              "            <script src=\"https://cdnjs.cloudflare.com/ajax/libs/mathjax/2.7.5/MathJax.js?config=TeX-AMS-MML_SVG\"></script><script type=\"text/javascript\">if (window.MathJax) {MathJax.Hub.Config({SVG: {font: \"STIX-Web\"}});}</script>\n",
              "                <script type=\"text/javascript\">window.PlotlyConfig = {MathJaxConfig: 'local'};</script>\n",
              "        <script src=\"https://cdn.plot.ly/plotly-latest.min.js\"></script>    \n",
              "            <div id=\"48cd69c7-141a-480d-b615-75bbbfd21801\" class=\"plotly-graph-div\" style=\"height:525px; width:100%;\"></div>\n",
              "            <script type=\"text/javascript\">\n",
              "                \n",
              "                    window.PLOTLYENV=window.PLOTLYENV || {};\n",
              "                    \n",
              "                if (document.getElementById(\"48cd69c7-141a-480d-b615-75bbbfd21801\")) {\n",
              "                    Plotly.newPlot(\n",
              "                        '48cd69c7-141a-480d-b615-75bbbfd21801',\n",
              "                        [{\"alignmentgroup\": \"True\", \"hoverlabel\": {\"namelength\": 0}, \"hovertemplate\": \"Item=%{x}<br>Number of sales=%{y}\", \"legendgroup\": \"\", \"marker\": {\"color\": \"#636efa\"}, \"name\": \"\", \"offsetgroup\": \"\", \"orientation\": \"v\", \"showlegend\": false, \"textposition\": \"auto\", \"type\": \"bar\", \"x\": [\"whole milk\", \"other vegetables\", \"rolls/buns\", \"soda\", \"yogurt\", \"root vegetables\", \"tropical fruit\", \"bottled water\", \"sausage\", \"citrus fruit\"], \"xaxis\": \"x\", \"y\": [2502, 1898, 1716, 1514, 1334, 1071, 1032, 933, 924, 812], \"yaxis\": \"y\"}],\n",
              "                        {\"barmode\": \"relative\", \"legend\": {\"tracegroupgap\": 0}, \"template\": {\"data\": {\"bar\": [{\"error_x\": {\"color\": \"#2a3f5f\"}, \"error_y\": {\"color\": \"#2a3f5f\"}, \"marker\": {\"line\": {\"color\": \"#E5ECF6\", \"width\": 0.5}}, \"type\": \"bar\"}], \"barpolar\": [{\"marker\": {\"line\": {\"color\": \"#E5ECF6\", \"width\": 0.5}}, \"type\": \"barpolar\"}], \"carpet\": [{\"aaxis\": {\"endlinecolor\": \"#2a3f5f\", \"gridcolor\": \"white\", \"linecolor\": \"white\", \"minorgridcolor\": \"white\", \"startlinecolor\": \"#2a3f5f\"}, \"baxis\": {\"endlinecolor\": \"#2a3f5f\", \"gridcolor\": \"white\", \"linecolor\": \"white\", \"minorgridcolor\": \"white\", \"startlinecolor\": \"#2a3f5f\"}, \"type\": \"carpet\"}], \"choropleth\": [{\"colorbar\": {\"outlinewidth\": 0, \"ticks\": \"\"}, \"type\": \"choropleth\"}], \"contour\": [{\"colorbar\": {\"outlinewidth\": 0, \"ticks\": \"\"}, \"colorscale\": [[0.0, \"#0d0887\"], [0.1111111111111111, \"#46039f\"], [0.2222222222222222, \"#7201a8\"], [0.3333333333333333, \"#9c179e\"], [0.4444444444444444, \"#bd3786\"], [0.5555555555555556, \"#d8576b\"], [0.6666666666666666, \"#ed7953\"], [0.7777777777777778, \"#fb9f3a\"], [0.8888888888888888, \"#fdca26\"], [1.0, \"#f0f921\"]], \"type\": \"contour\"}], \"contourcarpet\": [{\"colorbar\": {\"outlinewidth\": 0, \"ticks\": \"\"}, \"type\": \"contourcarpet\"}], \"heatmap\": [{\"colorbar\": {\"outlinewidth\": 0, \"ticks\": \"\"}, \"colorscale\": [[0.0, \"#0d0887\"], [0.1111111111111111, \"#46039f\"], [0.2222222222222222, \"#7201a8\"], [0.3333333333333333, \"#9c179e\"], [0.4444444444444444, \"#bd3786\"], [0.5555555555555556, \"#d8576b\"], [0.6666666666666666, \"#ed7953\"], [0.7777777777777778, \"#fb9f3a\"], [0.8888888888888888, \"#fdca26\"], [1.0, \"#f0f921\"]], \"type\": \"heatmap\"}], \"heatmapgl\": [{\"colorbar\": {\"outlinewidth\": 0, \"ticks\": \"\"}, \"colorscale\": [[0.0, \"#0d0887\"], [0.1111111111111111, \"#46039f\"], [0.2222222222222222, \"#7201a8\"], [0.3333333333333333, \"#9c179e\"], [0.4444444444444444, \"#bd3786\"], [0.5555555555555556, \"#d8576b\"], [0.6666666666666666, \"#ed7953\"], [0.7777777777777778, \"#fb9f3a\"], [0.8888888888888888, \"#fdca26\"], [1.0, \"#f0f921\"]], \"type\": \"heatmapgl\"}], \"histogram\": [{\"marker\": {\"colorbar\": {\"outlinewidth\": 0, \"ticks\": \"\"}}, \"type\": \"histogram\"}], \"histogram2d\": [{\"colorbar\": {\"outlinewidth\": 0, \"ticks\": \"\"}, \"colorscale\": [[0.0, \"#0d0887\"], [0.1111111111111111, \"#46039f\"], [0.2222222222222222, \"#7201a8\"], [0.3333333333333333, \"#9c179e\"], [0.4444444444444444, \"#bd3786\"], [0.5555555555555556, \"#d8576b\"], [0.6666666666666666, \"#ed7953\"], [0.7777777777777778, \"#fb9f3a\"], [0.8888888888888888, \"#fdca26\"], [1.0, \"#f0f921\"]], \"type\": \"histogram2d\"}], \"histogram2dcontour\": [{\"colorbar\": {\"outlinewidth\": 0, \"ticks\": \"\"}, \"colorscale\": [[0.0, \"#0d0887\"], [0.1111111111111111, \"#46039f\"], [0.2222222222222222, \"#7201a8\"], [0.3333333333333333, \"#9c179e\"], [0.4444444444444444, \"#bd3786\"], [0.5555555555555556, \"#d8576b\"], [0.6666666666666666, \"#ed7953\"], [0.7777777777777778, \"#fb9f3a\"], [0.8888888888888888, \"#fdca26\"], [1.0, \"#f0f921\"]], \"type\": \"histogram2dcontour\"}], \"mesh3d\": [{\"colorbar\": {\"outlinewidth\": 0, \"ticks\": \"\"}, \"type\": \"mesh3d\"}], \"parcoords\": [{\"line\": {\"colorbar\": {\"outlinewidth\": 0, \"ticks\": \"\"}}, \"type\": \"parcoords\"}], \"pie\": [{\"automargin\": true, \"type\": \"pie\"}], \"scatter\": [{\"marker\": {\"colorbar\": {\"outlinewidth\": 0, \"ticks\": \"\"}}, \"type\": \"scatter\"}], \"scatter3d\": [{\"line\": {\"colorbar\": {\"outlinewidth\": 0, \"ticks\": \"\"}}, \"marker\": {\"colorbar\": {\"outlinewidth\": 0, \"ticks\": \"\"}}, \"type\": \"scatter3d\"}], \"scattercarpet\": [{\"marker\": {\"colorbar\": {\"outlinewidth\": 0, \"ticks\": \"\"}}, \"type\": \"scattercarpet\"}], \"scattergeo\": [{\"marker\": {\"colorbar\": {\"outlinewidth\": 0, \"ticks\": \"\"}}, \"type\": \"scattergeo\"}], \"scattergl\": [{\"marker\": {\"colorbar\": {\"outlinewidth\": 0, \"ticks\": \"\"}}, \"type\": \"scattergl\"}], \"scattermapbox\": [{\"marker\": {\"colorbar\": {\"outlinewidth\": 0, \"ticks\": \"\"}}, \"type\": \"scattermapbox\"}], \"scatterpolar\": [{\"marker\": {\"colorbar\": {\"outlinewidth\": 0, \"ticks\": \"\"}}, \"type\": \"scatterpolar\"}], \"scatterpolargl\": [{\"marker\": {\"colorbar\": {\"outlinewidth\": 0, \"ticks\": \"\"}}, \"type\": \"scatterpolargl\"}], \"scatterternary\": [{\"marker\": {\"colorbar\": {\"outlinewidth\": 0, \"ticks\": \"\"}}, \"type\": \"scatterternary\"}], \"surface\": [{\"colorbar\": {\"outlinewidth\": 0, \"ticks\": \"\"}, \"colorscale\": [[0.0, \"#0d0887\"], [0.1111111111111111, \"#46039f\"], [0.2222222222222222, \"#7201a8\"], [0.3333333333333333, \"#9c179e\"], [0.4444444444444444, \"#bd3786\"], [0.5555555555555556, \"#d8576b\"], [0.6666666666666666, \"#ed7953\"], [0.7777777777777778, \"#fb9f3a\"], [0.8888888888888888, \"#fdca26\"], [1.0, \"#f0f921\"]], \"type\": \"surface\"}], \"table\": [{\"cells\": {\"fill\": {\"color\": \"#EBF0F8\"}, \"line\": {\"color\": \"white\"}}, \"header\": {\"fill\": {\"color\": \"#C8D4E3\"}, \"line\": {\"color\": \"white\"}}, \"type\": \"table\"}]}, \"layout\": {\"annotationdefaults\": {\"arrowcolor\": \"#2a3f5f\", \"arrowhead\": 0, \"arrowwidth\": 1}, \"coloraxis\": {\"colorbar\": {\"outlinewidth\": 0, \"ticks\": \"\"}}, \"colorscale\": {\"diverging\": [[0, \"#8e0152\"], [0.1, \"#c51b7d\"], [0.2, \"#de77ae\"], [0.3, \"#f1b6da\"], [0.4, \"#fde0ef\"], [0.5, \"#f7f7f7\"], [0.6, \"#e6f5d0\"], [0.7, \"#b8e186\"], [0.8, \"#7fbc41\"], [0.9, \"#4d9221\"], [1, \"#276419\"]], \"sequential\": [[0.0, \"#0d0887\"], [0.1111111111111111, \"#46039f\"], [0.2222222222222222, \"#7201a8\"], [0.3333333333333333, \"#9c179e\"], [0.4444444444444444, \"#bd3786\"], [0.5555555555555556, \"#d8576b\"], [0.6666666666666666, \"#ed7953\"], [0.7777777777777778, \"#fb9f3a\"], [0.8888888888888888, \"#fdca26\"], [1.0, \"#f0f921\"]], \"sequentialminus\": [[0.0, \"#0d0887\"], [0.1111111111111111, \"#46039f\"], [0.2222222222222222, \"#7201a8\"], [0.3333333333333333, \"#9c179e\"], [0.4444444444444444, \"#bd3786\"], [0.5555555555555556, \"#d8576b\"], [0.6666666666666666, \"#ed7953\"], [0.7777777777777778, \"#fb9f3a\"], [0.8888888888888888, \"#fdca26\"], [1.0, \"#f0f921\"]]}, \"colorway\": [\"#636efa\", \"#EF553B\", \"#00cc96\", \"#ab63fa\", \"#FFA15A\", \"#19d3f3\", \"#FF6692\", \"#B6E880\", \"#FF97FF\", \"#FECB52\"], \"font\": {\"color\": \"#2a3f5f\"}, \"geo\": {\"bgcolor\": \"white\", \"lakecolor\": \"white\", \"landcolor\": \"#E5ECF6\", \"showlakes\": true, \"showland\": true, \"subunitcolor\": \"white\"}, \"hoverlabel\": {\"align\": \"left\"}, \"hovermode\": \"closest\", \"mapbox\": {\"style\": \"light\"}, \"paper_bgcolor\": \"white\", \"plot_bgcolor\": \"#E5ECF6\", \"polar\": {\"angularaxis\": {\"gridcolor\": \"white\", \"linecolor\": \"white\", \"ticks\": \"\"}, \"bgcolor\": \"#E5ECF6\", \"radialaxis\": {\"gridcolor\": \"white\", \"linecolor\": \"white\", \"ticks\": \"\"}}, \"scene\": {\"xaxis\": {\"backgroundcolor\": \"#E5ECF6\", \"gridcolor\": \"white\", \"gridwidth\": 2, \"linecolor\": \"white\", \"showbackground\": true, \"ticks\": \"\", \"zerolinecolor\": \"white\"}, \"yaxis\": {\"backgroundcolor\": \"#E5ECF6\", \"gridcolor\": \"white\", \"gridwidth\": 2, \"linecolor\": \"white\", \"showbackground\": true, \"ticks\": \"\", \"zerolinecolor\": \"white\"}, \"zaxis\": {\"backgroundcolor\": \"#E5ECF6\", \"gridcolor\": \"white\", \"gridwidth\": 2, \"linecolor\": \"white\", \"showbackground\": true, \"ticks\": \"\", \"zerolinecolor\": \"white\"}}, \"shapedefaults\": {\"line\": {\"color\": \"#2a3f5f\"}}, \"ternary\": {\"aaxis\": {\"gridcolor\": \"white\", \"linecolor\": \"white\", \"ticks\": \"\"}, \"baxis\": {\"gridcolor\": \"white\", \"linecolor\": \"white\", \"ticks\": \"\"}, \"bgcolor\": \"#E5ECF6\", \"caxis\": {\"gridcolor\": \"white\", \"linecolor\": \"white\", \"ticks\": \"\"}}, \"title\": {\"x\": 0.05}, \"xaxis\": {\"automargin\": true, \"gridcolor\": \"white\", \"linecolor\": \"white\", \"ticks\": \"\", \"title\": {\"standoff\": 15}, \"zerolinecolor\": \"white\", \"zerolinewidth\": 2}, \"yaxis\": {\"automargin\": true, \"gridcolor\": \"white\", \"linecolor\": \"white\", \"ticks\": \"\", \"title\": {\"standoff\": 15}, \"zerolinecolor\": \"white\", \"zerolinewidth\": 2}}}, \"title\": {\"text\": \"Most purchased items\"}, \"xaxis\": {\"anchor\": \"y\", \"domain\": [0.0, 1.0], \"title\": {\"text\": \"Item\"}}, \"yaxis\": {\"anchor\": \"x\", \"domain\": [0.0, 1.0], \"title\": {\"text\": \"Number of sales\"}}},\n",
              "                        {\"responsive\": true}\n",
              "                    ).then(function(){\n",
              "                            \n",
              "var gd = document.getElementById('48cd69c7-141a-480d-b615-75bbbfd21801');\n",
              "var x = new MutationObserver(function (mutations, observer) {{\n",
              "        var display = window.getComputedStyle(gd).display;\n",
              "        if (!display || display === 'none') {{\n",
              "            console.log([gd, 'removed!']);\n",
              "            Plotly.purge(gd);\n",
              "            observer.disconnect();\n",
              "        }}\n",
              "}});\n",
              "\n",
              "// Listen for the removal of the full notebook cells\n",
              "var notebookContainer = gd.closest('#notebook-container');\n",
              "if (notebookContainer) {{\n",
              "    x.observe(notebookContainer, {childList: true});\n",
              "}}\n",
              "\n",
              "// Listen for the clearing of the current output cell\n",
              "var outputEl = gd.closest('.output');\n",
              "if (outputEl) {{\n",
              "    x.observe(outputEl, {childList: true});\n",
              "}}\n",
              "\n",
              "                        })\n",
              "                };\n",
              "                \n",
              "            </script>\n",
              "        </div>\n",
              "</body>\n",
              "</html>"
            ]
          },
          "metadata": {}
        }
      ]
    },
    {
      "cell_type": "code",
      "metadata": {
        "colab": {
          "base_uri": "https://localhost:8080/",
          "height": 458
        },
        "id": "eXhZ6oBHTs4-",
        "outputId": "4d497ddf-3997-4be7-8cbe-f9a4f4397e61"
      },
      "source": [
        "plt.figure(figsize=(10,7))\n",
        "df1['Number of sales'].hist(alpha=0.6)\n",
        "plt.xlabel('sales count')\n",
        "plt.ylabel('item count')\n",
        "plt.title(\"How many times each item was sold?\")\n",
        "plt.show()"
      ],
      "execution_count": null,
      "outputs": [
        {
          "output_type": "display_data",
          "data": {
            "image/png": "[encoded data removed]",
            "text/plain": [
              "<Figure size 720x504 with 1 Axes>"
            ]
          },
          "metadata": {
            "needs_background": "light"
          }
        }
      ]
    },
    {
      "cell_type": "code",
      "metadata": {
        "id": "yw8QbUjSTy2I"
      },
      "source": [
        "df=data.copy()"
      ],
      "execution_count": null,
      "outputs": []
    },
    {
      "cell_type": "code",
      "metadata": {
        "id": "rRX-ETgCT9nW"
      },
      "source": [
        "class StudyRules:\n",
        "    def __init__(self, df):\n",
        "        self.association_rules_dict = {}  # holds final output\n",
        "        self.data_df = df  # read data table into dataframe\n",
        "        self.association_rules = []  # holds output from Apriori algo\n",
        "        self.trans_matrix = pd.DataFrame()\n",
        "        self.df_corr = pd.DataFrame()\n",
        "        self.user_recs_df = pd.DataFrame(columns={'Member_number', 'Recommended'})\n",
        "        self.rules_df = pd.DataFrame(columns={'items_base', 'items_add'})\n",
        "\n",
        "    def compute_rules(self):\n",
        "        # association rules\n",
        "        apriori_data = self.data_df.groupby(['Member_number','Date'], sort=False)['itemDescription'].apply(list).tolist()\n",
        "        self.association_rules = apriori(apriori_data, min_support=0.001, min_confidence=0.01, min_lift=1,\n",
        "                                         max_length=None)\n",
        "        \n",
        "        # collaborative filtering\n",
        "        self.trans_matrix = self.data_df.groupby(['Member_number','itemDescription'])['itemDescription'].count().reset_index(name ='Count')\n",
        "        self.trans_matrix = self.trans_matrix.pivot_table(index = 'Member_number', columns = 'itemDescription', values = 'Count', aggfunc = 'sum').fillna(0)\n",
        "        self.trans_matrix = self.trans_matrix.applymap(lambda x: 1 if x > 0 else 0)\n",
        "        cor_matrix = self.trans_matrix.T.corr()\n",
        "        cor_matrix.index = cor_matrix.index.copy()\n",
        "        cor_matrix.columns.name = 'col'\n",
        "        # calculate the correlation matrix and reshape\n",
        "        self.df_corr = cor_matrix.stack().reset_index()\n",
        "        # rename the columns\n",
        "        self.df_corr.columns = ['to_user', 'from_user', 'corr']\n",
        "\n",
        "    def get_user_recommendations(self):\n",
        "        for user in set(list(self.df_corr['to_user'])):\n",
        "            related_user = self.df_corr[self.df_corr['to_user'] == user].sort_values(by='corr',ascending=False)['from_user'].values[1]\n",
        "            to_rec = self.trans_matrix.columns[self.trans_matrix.loc[user] == 1]\n",
        "            from_rec = self.trans_matrix.columns[self.trans_matrix.loc[related_user] == 1]\n",
        "            recommended = from_rec[np.isin(from_rec, to_rec, invert=True)]\n",
        "            if len(recommended) > 0:\n",
        "                for item in recommended:\n",
        "                    self.user_recs_df = self.user_recs_df.append({'Member_number': user, 'Recommended': item}, ignore_index=True)\n",
        "        \n",
        "    def extract_rules(self):\n",
        "        for item in self.association_rules:\n",
        "            # first index of the inner list\n",
        "            # Contains base item and add item\n",
        "\n",
        "            if len(item[0]) < 2:\n",
        "                continue\n",
        "\n",
        "            for k in item[2]:\n",
        "\n",
        "                base_item_list = list(k[0])\n",
        "                # if base item set is empty then go to the next record.\n",
        "                if not base_item_list:\n",
        "                    continue\n",
        "\n",
        "                # sort the base_item_list before adding it as a key to the AssociationRules dictionary\n",
        "                base_item_list.sort()\n",
        "                base_item_list_key = ','.join([str(x) for x in base_item_list])\n",
        "\n",
        "                if base_item_list_key not in self.association_rules_dict.keys():\n",
        "                    self.association_rules_dict[base_item_list_key] = []\n",
        "\n",
        "                self.association_rules_dict[base_item_list_key].append((list(k[1]), k[3]))\n",
        "\n",
        "                # if something goes wrong, then use the following print block to print values\n",
        "                # print(\"CONFIG\")\n",
        "                # print(\"Base item: \", base_item_list_key)\n",
        "                # print(\"Target item: \", list(k[1]))\n",
        "                # print(\"Confidence: \" + str(k[2]))\n",
        "                # print(\"Lift: \" + str(k[3]))\n",
        "\n",
        "        # sort the rules in descending order of lift values.\n",
        "        for ruleList in self.association_rules_dict:\n",
        "            self.association_rules_dict[ruleList].sort(key=lambda x: x[1], reverse=True)\n",
        "            \n",
        "    def get_rules_df(self):\n",
        "        for key, value in self.association_rules_dict.items():\n",
        "            items_add = list(itertools.chain.from_iterable([x[0] for x in value]))\n",
        "            items_add_str = ','.join([str(x) for x in items_add])\n",
        "            self.rules_df = self.rules_df.append({'items_base':key, 'items_add':items_add_str}, ignore_index=True)\n",
        "\n",
        "    def update_rules(self):\n",
        "        self.compute_rules()\n",
        "        self.extract_rules()\n",
        "        self.get_rules_df()\n",
        "        self.get_user_recommendations()"
      ],
      "execution_count": null,
      "outputs": []
    },
    {
      "cell_type": "code",
      "metadata": {
        "id": "rPmfOgA-fxWa"
      },
      "source": [
        "class Recommender:\n",
        "\n",
        "    def recommend_to_basket(self, items):\n",
        "        items.sort()\n",
        "        items_base = ','.join([str(x) for x in items])\n",
        "        items_add = rules.rules_df[rules.rules_df['items_base'] == 'tropical fruit']['items_add'].values[0].split(',')\n",
        "        return items_add\n",
        "        \n",
        "    def recommend_to_user(self, id):\n",
        "        items = list(rules.user_recs_df[rules.user_recs_df.Member_number == 5000].Recommended.values)\n",
        "        return items"
      ],
      "execution_count": null,
      "outputs": []
    },
    {
      "cell_type": "code",
      "metadata": {
        "id": "QeWCKumtf4wI"
      },
      "source": [
        "rules = StudyRules(df)\n"
      ],
      "execution_count": null,
      "outputs": []
    },
    {
      "cell_type": "code",
      "metadata": {
        "id": "9yAkzMGOf8uu"
      },
      "source": [
        "rules.update_rules()\n"
      ],
      "execution_count": null,
      "outputs": []
    },
    {
      "cell_type": "code",
      "metadata": {
        "colab": {
          "base_uri": "https://localhost:8080/",
          "height": 204
        },
        "id": "3gD3MPwIf-lP",
        "outputId": "208004c1-4529-48d0-e9cd-debf63a97069"
      },
      "source": [
        "rules.user_recs_df.head()"
      ],
      "execution_count": null,
      "outputs": [
        {
          "output_type": "execute_result",
          "data": {
            "text/html": [
              "<div>\n",
              "<style scoped>\n",
              "    .dataframe tbody tr th:only-of-type {\n",
              "        vertical-align: middle;\n",
              "    }\n",
              "\n",
              "    .dataframe tbody tr th {\n",
              "        vertical-align: top;\n",
              "    }\n",
              "\n",
              "    .dataframe thead th {\n",
              "        text-align: right;\n",
              "    }\n",
              "</style>\n",
              "<table border=\"1\" class=\"dataframe\">\n",
              "  <thead>\n",
              "    <tr style=\"text-align: right;\">\n",
              "      <th></th>\n",
              "      <th>Recommended</th>\n",
              "      <th>Member_number</th>\n",
              "    </tr>\n",
              "  </thead>\n",
              "  <tbody>\n",
              "    <tr>\n",
              "      <th>0</th>\n",
              "      <td>chocolate</td>\n",
              "      <td>1000</td>\n",
              "    </tr>\n",
              "    <tr>\n",
              "      <th>1</th>\n",
              "      <td>other vegetables</td>\n",
              "      <td>1000</td>\n",
              "    </tr>\n",
              "    <tr>\n",
              "      <th>2</th>\n",
              "      <td>bottled water</td>\n",
              "      <td>1002</td>\n",
              "    </tr>\n",
              "    <tr>\n",
              "      <th>3</th>\n",
              "      <td>fruit/vegetable juice</td>\n",
              "      <td>1004</td>\n",
              "    </tr>\n",
              "    <tr>\n",
              "      <th>4</th>\n",
              "      <td>margarine</td>\n",
              "      <td>1006</td>\n",
              "    </tr>\n",
              "  </tbody>\n",
              "</table>\n",
              "</div>"
            ],
            "text/plain": [
              "             Recommended Member_number\n",
              "0              chocolate          1000\n",
              "1       other vegetables          1000\n",
              "2          bottled water          1002\n",
              "3  fruit/vegetable juice          1004\n",
              "4              margarine          1006"
            ]
          },
          "metadata": {},
          "execution_count": 34
        }
      ]
    },
    {
      "cell_type": "code",
      "metadata": {
        "colab": {
          "base_uri": "https://localhost:8080/",
          "height": 204
        },
        "id": "dIfwV2KlgxAz",
        "outputId": "f7e6b136-545d-4d5a-b639-6e0b94ade1f3"
      },
      "source": [
        "rules.rules_df.head()"
      ],
      "execution_count": null,
      "outputs": [
        {
          "output_type": "execute_result",
          "data": {
            "text/html": [
              "<div>\n",
              "<style scoped>\n",
              "    .dataframe tbody tr th:only-of-type {\n",
              "        vertical-align: middle;\n",
              "    }\n",
              "\n",
              "    .dataframe tbody tr th {\n",
              "        vertical-align: top;\n",
              "    }\n",
              "\n",
              "    .dataframe thead th {\n",
              "        text-align: right;\n",
              "    }\n",
              "</style>\n",
              "<table border=\"1\" class=\"dataframe\">\n",
              "  <thead>\n",
              "    <tr style=\"text-align: right;\">\n",
              "      <th></th>\n",
              "      <th>items_base</th>\n",
              "      <th>items_add</th>\n",
              "    </tr>\n",
              "  </thead>\n",
              "  <tbody>\n",
              "    <tr>\n",
              "      <th>0</th>\n",
              "      <td>UHT-milk</td>\n",
              "      <td>tropical fruit</td>\n",
              "    </tr>\n",
              "    <tr>\n",
              "      <th>1</th>\n",
              "      <td>tropical fruit</td>\n",
              "      <td>flour,cat food,specialty chocolate,UHT-milk</td>\n",
              "    </tr>\n",
              "    <tr>\n",
              "      <th>2</th>\n",
              "      <td>beef</td>\n",
              "      <td>frozen vegetables,margarine,newspapers,brown b...</td>\n",
              "    </tr>\n",
              "    <tr>\n",
              "      <th>3</th>\n",
              "      <td>brown bread</td>\n",
              "      <td>canned beer,beef,pork,white bread,frankfurter,...</td>\n",
              "    </tr>\n",
              "    <tr>\n",
              "      <th>4</th>\n",
              "      <td>citrus fruit</td>\n",
              "      <td>specialty chocolate,candy,napkins,frozen veget...</td>\n",
              "    </tr>\n",
              "  </tbody>\n",
              "</table>\n",
              "</div>"
            ],
            "text/plain": [
              "       items_base                                          items_add\n",
              "0        UHT-milk                                     tropical fruit\n",
              "1  tropical fruit        flour,cat food,specialty chocolate,UHT-milk\n",
              "2            beef  frozen vegetables,margarine,newspapers,brown b...\n",
              "3     brown bread  canned beer,beef,pork,white bread,frankfurter,...\n",
              "4    citrus fruit  specialty chocolate,candy,napkins,frozen veget..."
            ]
          },
          "metadata": {},
          "execution_count": 35
        }
      ]
    },
    {
      "cell_type": "markdown",
      "metadata": {
        "id": "Qrn2EE13hDGf"
      },
      "source": [
        "Get Recommendations"
      ]
    },
    {
      "cell_type": "code",
      "metadata": {
        "id": "kvj8xtC0hHxS"
      },
      "source": [
        "recommender = Recommender()"
      ],
      "execution_count": null,
      "outputs": []
    },
    {
      "cell_type": "code",
      "metadata": {
        "colab": {
          "base_uri": "https://localhost:8080/"
        },
        "id": "dMw_nFfmhLHI",
        "outputId": "2747770a-13a5-4b47-b962-c8ee4f940d80"
      },
      "source": [
        "recommender.recommend_to_basket(['tropical fruit'])"
      ],
      "execution_count": null,
      "outputs": [
        {
          "output_type": "execute_result",
          "data": {
            "text/plain": [
              "['flour', 'cat food', 'specialty chocolate', 'UHT-milk']"
            ]
          },
          "metadata": {},
          "execution_count": 37
        }
      ]
    },
    {
      "cell_type": "code",
      "metadata": {
        "colab": {
          "base_uri": "https://localhost:8080/"
        },
        "id": "TQGxxVXyhQwI",
        "outputId": "0bb50d91-e5d1-4c2f-e605-5a41613bff74"
      },
      "source": [
        "#  get user recommendations\n",
        "recommender.recommend_to_user(5000)"
      ],
      "execution_count": null,
      "outputs": [
        {
          "output_type": "execute_result",
          "data": {
            "text/plain": [
              "['bottled water',\n",
              " 'brown bread',\n",
              " 'butter milk',\n",
              " 'long life bakery product',\n",
              " 'margarine',\n",
              " 'pot plants']"
            ]
          },
          "metadata": {},
          "execution_count": 39
        }
      ]
    },
    {
      "cell_type": "markdown",
      "metadata": {
        "id": "ydDOyvN5zSkp"
      },
      "source": [
        "**Deployment(Use Flask)**"
      ]
    },
    {
      "cell_type": "markdown",
      "metadata": {
        "id": "CYl4_jh3hDjs"
      },
      "source": [
        "https://groceries-recommendations.herokuapp.com/"
      ]
    }
  ]
}